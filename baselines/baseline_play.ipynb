{
 "cells": [
  {
   "cell_type": "code",
   "execution_count": 2,
   "metadata": {},
   "outputs": [],
   "source": [
    "# for sample in samples:\n",
    "#     sample[\"conditions\"] = sample[\"conditions\"][0]\n",
    "#     sample[\"procedures\"] = sample[\"procedures\"][0]\n",
    "#     sample[\"drugs\"] = sample[\"drugs\"][0]"
   ]
  },
  {
   "cell_type": "code",
   "execution_count": 9,
   "metadata": {},
   "outputs": [],
   "source": [
    "TASK = \"mortality\"\n",
    "DATASET = \"mimic3\"\n"
   ]
  },
  {
   "cell_type": "code",
   "execution_count": 10,
   "metadata": {},
   "outputs": [],
   "source": [
    "from pyhealth.datasets import SampleEHRDataset\n",
    "import json\n",
    "\n",
    "with open(f\"/shared/eng/pj20/kelpie_exp_data/ehr_data/{DATASET}_{TASK}_samples_train.json\", \"r\") as f:\n",
    "    samples_train = json.load(f)\n",
    "with open(f\"/shared/eng/pj20/kelpie_exp_data/ehr_data/{DATASET}_{TASK}_samples_test.json\", \"r\") as f:\n",
    "    samples_test = json.load(f)\n",
    "\n",
    "\n",
    "dataset_train = SampleEHRDataset(samples_train, dataset_name=DATASET, task_name=TASK)\n",
    "dataset_test = SampleEHRDataset(samples_test, dataset_name=DATASET, task_name=TASK)\n"
   ]
  },
  {
   "cell_type": "code",
   "execution_count": 11,
   "metadata": {},
   "outputs": [
    {
     "data": {
      "text/plain": [
       "996"
      ]
     },
     "execution_count": 11,
     "metadata": {},
     "output_type": "execute_result"
    }
   ],
   "source": [
    "len(dataset_test)"
   ]
  },
  {
   "cell_type": "code",
   "execution_count": 12,
   "metadata": {},
   "outputs": [],
   "source": [
    "from pyhealth.datasets import split_by_patient, get_dataloader\n",
    "\n",
    "# train_dataset, val_dataset, test_dataset = split_by_patient(\n",
    "#     dataset, [0.8, 0.1, 0.1], seed=528\n",
    "# )\n",
    "train_dataloader = get_dataloader(dataset_train, batch_size=32, shuffle=True)\n",
    "test_dataloader = get_dataloader(dataset_test, batch_size=32, shuffle=False)"
   ]
  },
  {
   "cell_type": "code",
   "execution_count": 18,
   "metadata": {},
   "outputs": [],
   "source": [
    "from pyhealth.trainer import Trainer\n",
    "from pyhealth.models import Deepr, AdaCare, StageNet, GRASP, Transformer, RETAIN, RNN\n",
    "import os\n",
    "\n",
    "os.environ[\"CUDA_VISIBLE_DEVICES\"] = \"5\"\n",
    "\n",
    "model = GRASP(\n",
    "    dataset=dataset_train,\n",
    "    feature_keys=[\"conditions\", \"procedures\", \"drugs\"],\n",
    "    label_key=\"label\",\n",
    "    mode=\"binary\",\n",
    "    use_embedding=[True, True, True],\n",
    "    embedding_dim=128,\n",
    ")\n"
   ]
  },
  {
   "cell_type": "code",
   "execution_count": 19,
   "metadata": {},
   "outputs": [
    {
     "name": "stdout",
     "output_type": "stream",
     "text": [
      "GRASP(\n",
      "  (embeddings): ModuleDict(\n",
      "    (conditions): Embedding(263, 128, padding_idx=0)\n",
      "    (procedures): Embedding(192, 128, padding_idx=0)\n",
      "    (drugs): Embedding(194, 128, padding_idx=0)\n",
      "  )\n",
      "  (linear_layers): ModuleDict()\n",
      "  (grasp): ModuleDict(\n",
      "    (conditions): GRASPLayer(\n",
      "      (backbone): ConCareLayer(\n",
      "        (PositionalEncoding): PositionalEncoding(\n",
      "          (dropout): Dropout(p=0, inplace=False)\n",
      "        )\n",
      "        (GRUs): ModuleList(\n",
      "          (0-127): 128 x GRU(1, 128, batch_first=True)\n",
      "        )\n",
      "        (LastStepAttentions): ModuleList(\n",
      "          (0-127): 128 x SingleAttention(\n",
      "            (tanh): Tanh()\n",
      "            (softmax): Softmax(dim=1)\n",
      "            (sigmoid): Sigmoid()\n",
      "            (relu): ReLU()\n",
      "          )\n",
      "        )\n",
      "        (FinalAttentionQKV): FinalAttentionQKV(\n",
      "          (W_q): Linear(in_features=128, out_features=128, bias=True)\n",
      "          (W_k): Linear(in_features=128, out_features=128, bias=True)\n",
      "          (W_v): Linear(in_features=128, out_features=128, bias=True)\n",
      "          (W_out): Linear(in_features=128, out_features=1, bias=True)\n",
      "          (dropout): Dropout(p=0, inplace=False)\n",
      "          (tanh): Tanh()\n",
      "          (softmax): Softmax(dim=1)\n",
      "          (sigmoid): Sigmoid()\n",
      "        )\n",
      "        (MultiHeadedAttention): MultiHeadedAttention(\n",
      "          (linears): ModuleList(\n",
      "            (0-2): 3 x Linear(in_features=128, out_features=128, bias=True)\n",
      "          )\n",
      "          (final_linear): Linear(in_features=128, out_features=128, bias=True)\n",
      "          (dropout): Dropout(p=0, inplace=False)\n",
      "        )\n",
      "        (SublayerConnection): SublayerConnection(\n",
      "          (norm): LayerNorm()\n",
      "          (dropout): Dropout(p=0, inplace=False)\n",
      "        )\n",
      "        (PositionwiseFeedForward): PositionwiseFeedForward(\n",
      "          (w_1): Linear(in_features=128, out_features=64, bias=True)\n",
      "          (w_2): Linear(in_features=64, out_features=128, bias=True)\n",
      "          (dropout): Dropout(p=0.1, inplace=False)\n",
      "        )\n",
      "        (dropout): Dropout(p=0, inplace=False)\n",
      "        (tanh): Tanh()\n",
      "        (softmax): Softmax(dim=None)\n",
      "        (sigmoid): Sigmoid()\n",
      "        (relu): ReLU()\n",
      "      )\n",
      "      (relu): ReLU()\n",
      "      (tanh): Tanh()\n",
      "      (sigmoid): Sigmoid()\n",
      "      (dropout): Dropout(p=0.5, inplace=False)\n",
      "      (weight1): Linear(in_features=128, out_features=1, bias=True)\n",
      "      (weight2): Linear(in_features=128, out_features=1, bias=True)\n",
      "      (GCN): GraphConvolution()\n",
      "      (GCN_2): GraphConvolution()\n",
      "      (bn): BatchNorm1d(128, eps=1e-05, momentum=0.1, affine=True, track_running_stats=True)\n",
      "    )\n",
      "    (procedures): GRASPLayer(\n",
      "      (backbone): ConCareLayer(\n",
      "        (PositionalEncoding): PositionalEncoding(\n",
      "          (dropout): Dropout(p=0, inplace=False)\n",
      "        )\n",
      "        (GRUs): ModuleList(\n",
      "          (0-127): 128 x GRU(1, 128, batch_first=True)\n",
      "        )\n",
      "        (LastStepAttentions): ModuleList(\n",
      "          (0-127): 128 x SingleAttention(\n",
      "            (tanh): Tanh()\n",
      "            (softmax): Softmax(dim=1)\n",
      "            (sigmoid): Sigmoid()\n",
      "            (relu): ReLU()\n",
      "          )\n",
      "        )\n",
      "        (FinalAttentionQKV): FinalAttentionQKV(\n",
      "          (W_q): Linear(in_features=128, out_features=128, bias=True)\n",
      "          (W_k): Linear(in_features=128, out_features=128, bias=True)\n",
      "          (W_v): Linear(in_features=128, out_features=128, bias=True)\n",
      "          (W_out): Linear(in_features=128, out_features=1, bias=True)\n",
      "          (dropout): Dropout(p=0, inplace=False)\n",
      "          (tanh): Tanh()\n",
      "          (softmax): Softmax(dim=1)\n",
      "          (sigmoid): Sigmoid()\n",
      "        )\n",
      "        (MultiHeadedAttention): MultiHeadedAttention(\n",
      "          (linears): ModuleList(\n",
      "            (0-2): 3 x Linear(in_features=128, out_features=128, bias=True)\n",
      "          )\n",
      "          (final_linear): Linear(in_features=128, out_features=128, bias=True)\n",
      "          (dropout): Dropout(p=0, inplace=False)\n",
      "        )\n",
      "        (SublayerConnection): SublayerConnection(\n",
      "          (norm): LayerNorm()\n",
      "          (dropout): Dropout(p=0, inplace=False)\n",
      "        )\n",
      "        (PositionwiseFeedForward): PositionwiseFeedForward(\n",
      "          (w_1): Linear(in_features=128, out_features=64, bias=True)\n",
      "          (w_2): Linear(in_features=64, out_features=128, bias=True)\n",
      "          (dropout): Dropout(p=0.1, inplace=False)\n",
      "        )\n",
      "        (dropout): Dropout(p=0, inplace=False)\n",
      "        (tanh): Tanh()\n",
      "        (softmax): Softmax(dim=None)\n",
      "        (sigmoid): Sigmoid()\n",
      "        (relu): ReLU()\n",
      "      )\n",
      "      (relu): ReLU()\n",
      "      (tanh): Tanh()\n",
      "      (sigmoid): Sigmoid()\n",
      "      (dropout): Dropout(p=0.5, inplace=False)\n",
      "      (weight1): Linear(in_features=128, out_features=1, bias=True)\n",
      "      (weight2): Linear(in_features=128, out_features=1, bias=True)\n",
      "      (GCN): GraphConvolution()\n",
      "      (GCN_2): GraphConvolution()\n",
      "      (bn): BatchNorm1d(128, eps=1e-05, momentum=0.1, affine=True, track_running_stats=True)\n",
      "    )\n",
      "    (drugs): GRASPLayer(\n",
      "      (backbone): ConCareLayer(\n",
      "        (PositionalEncoding): PositionalEncoding(\n",
      "          (dropout): Dropout(p=0, inplace=False)\n",
      "        )\n",
      "        (GRUs): ModuleList(\n",
      "          (0-127): 128 x GRU(1, 128, batch_first=True)\n",
      "        )\n",
      "        (LastStepAttentions): ModuleList(\n",
      "          (0-127): 128 x SingleAttention(\n",
      "            (tanh): Tanh()\n",
      "            (softmax): Softmax(dim=1)\n",
      "            (sigmoid): Sigmoid()\n",
      "            (relu): ReLU()\n",
      "          )\n",
      "        )\n",
      "        (FinalAttentionQKV): FinalAttentionQKV(\n",
      "          (W_q): Linear(in_features=128, out_features=128, bias=True)\n",
      "          (W_k): Linear(in_features=128, out_features=128, bias=True)\n",
      "          (W_v): Linear(in_features=128, out_features=128, bias=True)\n",
      "          (W_out): Linear(in_features=128, out_features=1, bias=True)\n",
      "          (dropout): Dropout(p=0, inplace=False)\n",
      "          (tanh): Tanh()\n",
      "          (softmax): Softmax(dim=1)\n",
      "          (sigmoid): Sigmoid()\n",
      "        )\n",
      "        (MultiHeadedAttention): MultiHeadedAttention(\n",
      "          (linears): ModuleList(\n",
      "            (0-2): 3 x Linear(in_features=128, out_features=128, bias=True)\n",
      "          )\n",
      "          (final_linear): Linear(in_features=128, out_features=128, bias=True)\n",
      "          (dropout): Dropout(p=0, inplace=False)\n",
      "        )\n",
      "        (SublayerConnection): SublayerConnection(\n",
      "          (norm): LayerNorm()\n",
      "          (dropout): Dropout(p=0, inplace=False)\n",
      "        )\n",
      "        (PositionwiseFeedForward): PositionwiseFeedForward(\n",
      "          (w_1): Linear(in_features=128, out_features=64, bias=True)\n",
      "          (w_2): Linear(in_features=64, out_features=128, bias=True)\n",
      "          (dropout): Dropout(p=0.1, inplace=False)\n",
      "        )\n",
      "        (dropout): Dropout(p=0, inplace=False)\n",
      "        (tanh): Tanh()\n",
      "        (softmax): Softmax(dim=None)\n",
      "        (sigmoid): Sigmoid()\n",
      "        (relu): ReLU()\n",
      "      )\n",
      "      (relu): ReLU()\n",
      "      (tanh): Tanh()\n",
      "      (sigmoid): Sigmoid()\n",
      "      (dropout): Dropout(p=0.5, inplace=False)\n",
      "      (weight1): Linear(in_features=128, out_features=1, bias=True)\n",
      "      (weight2): Linear(in_features=128, out_features=1, bias=True)\n",
      "      (GCN): GraphConvolution()\n",
      "      (GCN_2): GraphConvolution()\n",
      "      (bn): BatchNorm1d(128, eps=1e-05, momentum=0.1, affine=True, track_running_stats=True)\n",
      "    )\n",
      "  )\n",
      "  (fc): Linear(in_features=384, out_features=1, bias=True)\n",
      ")\n",
      "Metrics: ['accuracy', 'f1', 'pr_auc', 'sensitivity', 'specificity']\n",
      "Device: cuda\n",
      "\n",
      "Training:\n",
      "Batch size: 32\n",
      "Optimizer: <class 'torch.optim.adam.Adam'>\n",
      "Optimizer params: {'lr': 0.001}\n",
      "Weight decay: 0.0\n",
      "Max grad norm: None\n",
      "Val dataloader: <torch.utils.data.dataloader.DataLoader object at 0x7fae9444ef80>\n",
      "Monitor: f1\n",
      "Monitor criterion: max\n",
      "Epochs: 15\n",
      "\n"
     ]
    },
    {
     "name": "stderr",
     "output_type": "stream",
     "text": [
      "Epoch 0 / 15: 100%|██████████| 242/242 [04:14<00:00,  1.05s/it]"
     ]
    },
    {
     "name": "stdout",
     "output_type": "stream",
     "text": [
      "--- Train epoch-0, step-242 ---\n",
      "loss: 0.2626\n"
     ]
    },
    {
     "name": "stderr",
     "output_type": "stream",
     "text": [
      "\n",
      "Evaluation: 100%|██████████| 32/32 [00:11<00:00,  2.69it/s]"
     ]
    },
    {
     "name": "stdout",
     "output_type": "stream",
     "text": [
      "--- Eval epoch-0, step-242 ---\n",
      "accuracy: 0.9458\n",
      "f1: 0.4861\n",
      "pr_auc: 0.0718\n",
      "sensitivity: 0.0000\n",
      "specificity: 1.0000\n",
      "loss: 0.2068\n",
      "New best f1 score (0.4861) at epoch-0, step-242\n"
     ]
    },
    {
     "name": "stderr",
     "output_type": "stream",
     "text": [
      "\n"
     ]
    },
    {
     "name": "stdout",
     "output_type": "stream",
     "text": [
      "\n"
     ]
    },
    {
     "name": "stderr",
     "output_type": "stream",
     "text": [
      "Epoch 1 / 15: 100%|██████████| 242/242 [03:51<00:00,  1.04it/s]"
     ]
    },
    {
     "name": "stdout",
     "output_type": "stream",
     "text": [
      "--- Train epoch-1, step-484 ---\n",
      "loss: 0.2530\n"
     ]
    },
    {
     "name": "stderr",
     "output_type": "stream",
     "text": [
      "\n",
      "Evaluation: 100%|██████████| 32/32 [00:11<00:00,  2.69it/s]"
     ]
    },
    {
     "name": "stdout",
     "output_type": "stream",
     "text": [
      "--- Eval epoch-1, step-484 ---\n",
      "accuracy: 0.9458\n",
      "f1: 0.4861\n",
      "pr_auc: 0.0862\n",
      "sensitivity: 0.0000\n",
      "specificity: 1.0000\n",
      "loss: 0.2120\n",
      "\n"
     ]
    },
    {
     "name": "stderr",
     "output_type": "stream",
     "text": [
      "\n",
      "Epoch 2 / 15: 100%|██████████| 242/242 [03:58<00:00,  1.02it/s]"
     ]
    },
    {
     "name": "stdout",
     "output_type": "stream",
     "text": [
      "--- Train epoch-2, step-726 ---\n",
      "loss: 0.2492\n"
     ]
    },
    {
     "name": "stderr",
     "output_type": "stream",
     "text": [
      "\n",
      "Evaluation: 100%|██████████| 32/32 [00:11<00:00,  2.69it/s]"
     ]
    },
    {
     "name": "stdout",
     "output_type": "stream",
     "text": [
      "--- Eval epoch-2, step-726 ---\n",
      "accuracy: 0.9458\n",
      "f1: 0.4861\n",
      "pr_auc: 0.0861\n",
      "sensitivity: 0.0000\n",
      "specificity: 1.0000\n",
      "loss: 0.2159\n",
      "\n"
     ]
    },
    {
     "name": "stderr",
     "output_type": "stream",
     "text": [
      "\n",
      "Epoch 3 / 15: 100%|██████████| 242/242 [03:53<00:00,  1.04it/s]"
     ]
    },
    {
     "name": "stdout",
     "output_type": "stream",
     "text": [
      "--- Train epoch-3, step-968 ---\n",
      "loss: 0.2434\n"
     ]
    },
    {
     "name": "stderr",
     "output_type": "stream",
     "text": [
      "\n",
      "Evaluation: 100%|██████████| 32/32 [00:11<00:00,  2.69it/s]"
     ]
    },
    {
     "name": "stdout",
     "output_type": "stream",
     "text": [
      "--- Eval epoch-3, step-968 ---\n",
      "accuracy: 0.9458\n",
      "f1: 0.4861\n",
      "pr_auc: 0.0855\n",
      "sensitivity: 0.0000\n",
      "specificity: 1.0000\n",
      "loss: 0.2057\n",
      "\n"
     ]
    },
    {
     "name": "stderr",
     "output_type": "stream",
     "text": [
      "\n",
      "Epoch 4 / 15: 100%|██████████| 242/242 [03:49<00:00,  1.05it/s]"
     ]
    },
    {
     "name": "stdout",
     "output_type": "stream",
     "text": [
      "--- Train epoch-4, step-1210 ---\n",
      "loss: 0.2342\n"
     ]
    },
    {
     "name": "stderr",
     "output_type": "stream",
     "text": [
      "\n",
      "Evaluation: 100%|██████████| 32/32 [00:11<00:00,  2.67it/s]"
     ]
    },
    {
     "name": "stdout",
     "output_type": "stream",
     "text": [
      "--- Eval epoch-4, step-1210 ---\n",
      "accuracy: 0.9458\n",
      "f1: 0.4861\n",
      "pr_auc: 0.0948\n",
      "sensitivity: 0.0000\n",
      "specificity: 1.0000\n",
      "loss: 0.2239\n",
      "\n"
     ]
    },
    {
     "name": "stderr",
     "output_type": "stream",
     "text": [
      "\n",
      "Epoch 5 / 15: 100%|██████████| 242/242 [03:50<00:00,  1.05it/s]"
     ]
    },
    {
     "name": "stdout",
     "output_type": "stream",
     "text": [
      "--- Train epoch-5, step-1452 ---\n",
      "loss: 0.2335\n"
     ]
    },
    {
     "name": "stderr",
     "output_type": "stream",
     "text": [
      "\n",
      "Evaluation: 100%|██████████| 32/32 [00:11<00:00,  2.69it/s]"
     ]
    },
    {
     "name": "stdout",
     "output_type": "stream",
     "text": [
      "--- Eval epoch-5, step-1452 ---\n",
      "accuracy: 0.9458\n",
      "f1: 0.4861\n",
      "pr_auc: 0.0957\n",
      "sensitivity: 0.0000\n",
      "specificity: 1.0000\n",
      "loss: 0.2145\n",
      "\n"
     ]
    },
    {
     "name": "stderr",
     "output_type": "stream",
     "text": [
      "\n",
      "Epoch 6 / 15: 100%|██████████| 242/242 [03:53<00:00,  1.04it/s]"
     ]
    },
    {
     "name": "stdout",
     "output_type": "stream",
     "text": [
      "--- Train epoch-6, step-1694 ---\n",
      "loss: 0.2251\n"
     ]
    },
    {
     "name": "stderr",
     "output_type": "stream",
     "text": [
      "\n",
      "Evaluation: 100%|██████████| 32/32 [00:11<00:00,  2.68it/s]"
     ]
    },
    {
     "name": "stdout",
     "output_type": "stream",
     "text": [
      "--- Eval epoch-6, step-1694 ---\n",
      "accuracy: 0.9458\n",
      "f1: 0.4861\n",
      "pr_auc: 0.0970\n",
      "sensitivity: 0.0000\n",
      "specificity: 1.0000\n",
      "loss: 0.2282\n",
      "\n"
     ]
    },
    {
     "name": "stderr",
     "output_type": "stream",
     "text": [
      "\n",
      "Epoch 7 / 15: 100%|██████████| 242/242 [04:21<00:00,  1.08s/it]"
     ]
    },
    {
     "name": "stdout",
     "output_type": "stream",
     "text": [
      "--- Train epoch-7, step-1936 ---\n",
      "loss: 0.2171\n"
     ]
    },
    {
     "name": "stderr",
     "output_type": "stream",
     "text": [
      "\n",
      "Evaluation: 100%|██████████| 32/32 [00:11<00:00,  2.69it/s]"
     ]
    },
    {
     "name": "stdout",
     "output_type": "stream",
     "text": [
      "--- Eval epoch-7, step-1936 ---\n",
      "accuracy: 0.9367\n",
      "f1: 0.4990\n",
      "pr_auc: 0.1022\n",
      "sensitivity: 0.0185\n",
      "specificity: 0.9894\n",
      "loss: 0.2501\n",
      "New best f1 score (0.4990) at epoch-7, step-1936\n"
     ]
    },
    {
     "name": "stderr",
     "output_type": "stream",
     "text": [
      "\n"
     ]
    },
    {
     "name": "stdout",
     "output_type": "stream",
     "text": [
      "\n"
     ]
    },
    {
     "name": "stderr",
     "output_type": "stream",
     "text": [
      "Epoch 8 / 15: 100%|██████████| 242/242 [04:21<00:00,  1.08s/it]"
     ]
    },
    {
     "name": "stdout",
     "output_type": "stream",
     "text": [
      "--- Train epoch-8, step-2178 ---\n",
      "loss: 0.2160\n"
     ]
    },
    {
     "name": "stderr",
     "output_type": "stream",
     "text": [
      "\n",
      "Evaluation: 100%|██████████| 32/32 [00:11<00:00,  2.67it/s]"
     ]
    },
    {
     "name": "stdout",
     "output_type": "stream",
     "text": [
      "--- Eval epoch-8, step-2178 ---\n",
      "accuracy: 0.9458\n",
      "f1: 0.5039\n",
      "pr_auc: 0.1006\n",
      "sensitivity: 0.0185\n",
      "specificity: 0.9989\n",
      "loss: 0.2232\n",
      "New best f1 score (0.5039) at epoch-8, step-2178\n"
     ]
    },
    {
     "name": "stderr",
     "output_type": "stream",
     "text": [
      "\n"
     ]
    },
    {
     "name": "stdout",
     "output_type": "stream",
     "text": [
      "\n"
     ]
    },
    {
     "name": "stderr",
     "output_type": "stream",
     "text": [
      "Epoch 9 / 15: 100%|██████████| 242/242 [03:59<00:00,  1.01it/s]"
     ]
    },
    {
     "name": "stdout",
     "output_type": "stream",
     "text": [
      "--- Train epoch-9, step-2420 ---\n",
      "loss: 0.2079\n"
     ]
    },
    {
     "name": "stderr",
     "output_type": "stream",
     "text": [
      "\n",
      "Evaluation: 100%|██████████| 32/32 [00:11<00:00,  2.67it/s]"
     ]
    },
    {
     "name": "stdout",
     "output_type": "stream",
     "text": [
      "--- Eval epoch-9, step-2420 ---\n",
      "accuracy: 0.9468\n",
      "f1: 0.5214\n",
      "pr_auc: 0.1123\n",
      "sensitivity: 0.0370\n",
      "specificity: 0.9989\n",
      "loss: 0.2682\n",
      "New best f1 score (0.5214) at epoch-9, step-2420\n"
     ]
    },
    {
     "name": "stderr",
     "output_type": "stream",
     "text": [
      "\n"
     ]
    },
    {
     "name": "stdout",
     "output_type": "stream",
     "text": [
      "\n"
     ]
    },
    {
     "name": "stderr",
     "output_type": "stream",
     "text": [
      "Epoch 10 / 15: 100%|██████████| 242/242 [03:48<00:00,  1.06it/s]"
     ]
    },
    {
     "name": "stdout",
     "output_type": "stream",
     "text": [
      "--- Train epoch-10, step-2662 ---\n",
      "loss: 0.2240\n"
     ]
    },
    {
     "name": "stderr",
     "output_type": "stream",
     "text": [
      "\n",
      "Evaluation: 100%|██████████| 32/32 [00:11<00:00,  2.70it/s]"
     ]
    },
    {
     "name": "stdout",
     "output_type": "stream",
     "text": [
      "--- Eval epoch-10, step-2662 ---\n",
      "accuracy: 0.9458\n",
      "f1: 0.4861\n",
      "pr_auc: 0.0929\n",
      "sensitivity: 0.0000\n",
      "specificity: 1.0000\n",
      "loss: 0.2291\n",
      "\n"
     ]
    },
    {
     "name": "stderr",
     "output_type": "stream",
     "text": [
      "\n",
      "Epoch 11 / 15: 100%|██████████| 242/242 [03:49<00:00,  1.06it/s]"
     ]
    },
    {
     "name": "stdout",
     "output_type": "stream",
     "text": [
      "--- Train epoch-11, step-2904 ---\n",
      "loss: 0.2042\n"
     ]
    },
    {
     "name": "stderr",
     "output_type": "stream",
     "text": [
      "\n",
      "Evaluation: 100%|██████████| 32/32 [00:11<00:00,  2.71it/s]"
     ]
    },
    {
     "name": "stdout",
     "output_type": "stream",
     "text": [
      "--- Eval epoch-11, step-2904 ---\n",
      "accuracy: 0.9448\n",
      "f1: 0.5197\n",
      "pr_auc: 0.1086\n",
      "sensitivity: 0.0370\n",
      "specificity: 0.9968\n",
      "loss: 0.2404\n",
      "\n"
     ]
    },
    {
     "name": "stderr",
     "output_type": "stream",
     "text": [
      "\n",
      "Epoch 12 / 15: 100%|██████████| 242/242 [03:49<00:00,  1.05it/s]"
     ]
    },
    {
     "name": "stdout",
     "output_type": "stream",
     "text": [
      "--- Train epoch-12, step-3146 ---\n",
      "loss: 0.2058\n"
     ]
    },
    {
     "name": "stderr",
     "output_type": "stream",
     "text": [
      "\n",
      "Evaluation: 100%|██████████| 32/32 [00:11<00:00,  2.69it/s]"
     ]
    },
    {
     "name": "stdout",
     "output_type": "stream",
     "text": [
      "--- Eval epoch-12, step-3146 ---\n",
      "accuracy: 0.9448\n",
      "f1: 0.4858\n",
      "pr_auc: 0.0991\n",
      "sensitivity: 0.0000\n",
      "specificity: 0.9989\n",
      "loss: 0.2260\n",
      "\n"
     ]
    },
    {
     "name": "stderr",
     "output_type": "stream",
     "text": [
      "\n",
      "Epoch 13 / 15: 100%|██████████| 242/242 [03:54<00:00,  1.03it/s]"
     ]
    },
    {
     "name": "stdout",
     "output_type": "stream",
     "text": [
      "--- Train epoch-13, step-3388 ---\n",
      "loss: 0.2106\n"
     ]
    },
    {
     "name": "stderr",
     "output_type": "stream",
     "text": [
      "\n",
      "Evaluation: 100%|██████████| 32/32 [00:13<00:00,  2.42it/s]"
     ]
    },
    {
     "name": "stdout",
     "output_type": "stream",
     "text": [
      "--- Eval epoch-13, step-3388 ---\n",
      "accuracy: 0.9458\n",
      "f1: 0.4861\n",
      "pr_auc: 0.1042\n",
      "sensitivity: 0.0000\n",
      "specificity: 1.0000\n",
      "loss: 0.2170\n",
      "\n"
     ]
    },
    {
     "name": "stderr",
     "output_type": "stream",
     "text": [
      "\n",
      "Epoch 14 / 15: 100%|██████████| 242/242 [03:55<00:00,  1.03it/s]"
     ]
    },
    {
     "name": "stdout",
     "output_type": "stream",
     "text": [
      "--- Train epoch-14, step-3630 ---\n",
      "loss: 0.2121\n"
     ]
    },
    {
     "name": "stderr",
     "output_type": "stream",
     "text": [
      "\n",
      "Evaluation: 100%|██████████| 32/32 [00:15<00:00,  2.13it/s]"
     ]
    },
    {
     "name": "stdout",
     "output_type": "stream",
     "text": [
      "--- Eval epoch-14, step-3630 ---\n",
      "accuracy: 0.9448\n",
      "f1: 0.4858\n",
      "pr_auc: 0.1082\n",
      "sensitivity: 0.0000\n",
      "specificity: 0.9989\n",
      "loss: 0.2135\n",
      "Loaded best model\n"
     ]
    },
    {
     "name": "stderr",
     "output_type": "stream",
     "text": [
      "\n",
      "/home/pj20/PyHealth/pyhealth/trainer.py:337: FutureWarning: You are using `torch.load` with `weights_only=False` (the current default value), which uses the default pickle module implicitly. It is possible to construct malicious pickle data which will execute arbitrary code during unpickling (See https://github.com/pytorch/pytorch/blob/main/SECURITY.md#untrusted-models for more details). In a future release, the default value for `weights_only` will be flipped to `True`. This limits the functions that could be executed during unpickling. Arbitrary objects will no longer be allowed to be loaded via this mode unless they are explicitly allowlisted by the user via `torch.serialization.add_safe_globals`. We recommend you start setting `weights_only=True` for any use case where you don't have full control of the loaded file. Please open an issue on GitHub for any issues related to this experimental feature.\n",
      "  state_dict = torch.load(ckpt_path, map_location=self.device)\n",
      "Evaluation: 100%|██████████| 32/32 [00:11<00:00,  2.71it/s]"
     ]
    },
    {
     "name": "stdout",
     "output_type": "stream",
     "text": [
      "{'accuracy': 0.9447791164658634, 'f1': 0.5033319733442132, 'pr_auc': 0.09635838918523011, 'sensitivity': 0.018518518518518517, 'specificity': 0.9978768577494692, 'loss': 0.2662505491171032}\n"
     ]
    },
    {
     "name": "stderr",
     "output_type": "stream",
     "text": [
      "\n"
     ]
    }
   ],
   "source": [
    "trainer = Trainer(model=model, metrics=['accuracy', 'f1', 'pr_auc', 'sensitivity', 'specificity'])\n",
    "trainer.train(\n",
    "    train_dataloader=train_dataloader,\n",
    "    val_dataloader=test_dataloader,\n",
    "    epochs=15,\n",
    "    optimizer_params = {\"lr\": 1e-3},\n",
    "    monitor=\"f1\",\n",
    ")\n",
    "\n",
    "# STEP 5: evaluate\n",
    "print(trainer.evaluate(test_dataloader))"
   ]
  },
  {
   "cell_type": "code",
   "execution_count": null,
   "metadata": {},
   "outputs": [],
   "source": []
  }
 ],
 "metadata": {
  "kernelspec": {
   "display_name": "pyhealth",
   "language": "python",
   "name": "python3"
  },
  "language_info": {
   "codemirror_mode": {
    "name": "ipython",
    "version": 3
   },
   "file_extension": ".py",
   "mimetype": "text/x-python",
   "name": "python",
   "nbconvert_exporter": "python",
   "pygments_lexer": "ipython3",
   "version": "3.10.14"
  }
 },
 "nbformat": 4,
 "nbformat_minor": 2
}
