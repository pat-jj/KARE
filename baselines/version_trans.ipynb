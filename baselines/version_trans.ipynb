{
 "cells": [
  {
   "cell_type": "code",
   "execution_count": 1,
   "metadata": {},
   "outputs": [],
   "source": [
    "import pickle\n",
    "\n",
    "path = \"/shared/eng/pj20/kelpie_exp_data/ehr_data/mimic3_mortality.pkl\"\n",
    "with open(path, \"rb\") as f:\n",
    "    sample_dataset = pickle.load(f)"
   ]
  },
  {
   "cell_type": "code",
   "execution_count": 3,
   "metadata": {},
   "outputs": [],
   "source": [
    "import json\n",
    "\n",
    "with open(\"/shared/eng/pj20/kelpie_exp_data/ehr_data/mimic3_mortality_samples.json\", \"w\") as f:\n",
    "    json.dump(sample_dataset.samples, f)"
   ]
  },
  {
   "cell_type": "code",
   "execution_count": 4,
   "metadata": {},
   "outputs": [],
   "source": [
    "path = \"/shared/eng/pj20/kelpie_exp_data/ehr_data/mimic3_readmission.pkl\"\n",
    "with open(path, \"rb\") as f:\n",
    "    sample_dataset = pickle.load(f)\n",
    "    \n",
    "with open(\"/shared/eng/pj20/kelpie_exp_data/ehr_data/mimic3_readmission_samples.json\", \"w\") as f:\n",
    "    json.dump(sample_dataset.samples, f)"
   ]
  },
  {
   "cell_type": "code",
   "execution_count": null,
   "metadata": {},
   "outputs": [],
   "source": []
  }
 ],
 "metadata": {
  "kernelspec": {
   "display_name": "kgc",
   "language": "python",
   "name": "python3"
  },
  "language_info": {
   "codemirror_mode": {
    "name": "ipython",
    "version": 3
   },
   "file_extension": ".py",
   "mimetype": "text/x-python",
   "name": "python",
   "nbconvert_exporter": "python",
   "pygments_lexer": "ipython3",
   "version": "3.8.13"
  }
 },
 "nbformat": 4,
 "nbformat_minor": 2
}
